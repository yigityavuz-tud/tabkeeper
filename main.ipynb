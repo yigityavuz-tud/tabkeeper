{
 "cells": [
  {
   "cell_type": "code",
   "execution_count": 1,
   "execution_state": "idle",
   "id": "e7eebe75-1f25-4693-9b56-ec187f26561e",
   "metadata": {},
   "outputs": [
    {
     "name": "stdout",
     "output_type": "stream",
     "text": [
      "Existing data found. Processing new receipts only.\n",
      "Processing receipt: receipts/IMG_6536.JPEG\n",
      "('receipts/IMG_6536.JPEG', [0, 14])\n",
      "DataFrame uploaded to S3 as receipts_decoded/shopping_history.csv in bucket bon-yy.\n",
      "Data processing complete.\n"
     ]
    }
   ],
   "source": [
    "import yaml\n",
    "from bonp import process_data\n",
    "\n",
    "# Read the config file\n",
    "with open('config.yaml', 'r') as file:\n",
    "    config = yaml.safe_load(file)\n",
    "\n",
    "# Run the data processing function\n",
    "process_data(config)"
   ]
  },
  {
   "cell_type": "code",
   "execution_count": null,
   "id": "28262221-a884-4e75-a353-0caa45ffd2d0",
   "metadata": {},
   "outputs": [],
   "source": []
  }
 ],
 "metadata": {
  "kernelspec": {
   "display_name": "Python 3 (ipykernel)",
   "language": "python",
   "name": "python3"
  },
  "language_info": {
   "codemirror_mode": {
    "name": "ipython",
    "version": 3
   },
   "file_extension": ".py",
   "mimetype": "text/x-python",
   "name": "python",
   "nbconvert_exporter": "python",
   "pygments_lexer": "ipython3",
   "version": "3.11.11"
  }
 },
 "nbformat": 4,
 "nbformat_minor": 5
}
