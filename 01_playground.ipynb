{
 "cells": [
  {
   "cell_type": "code",
   "execution_count": 14,
   "execution_state": "idle",
   "id": "9cd0f6d4-03f6-425f-8343-09025994ff43",
   "metadata": {},
   "outputs": [],
   "source": [
    "import boto3\n",
    "import json\n",
    "import re\n",
    "import pandas as pd\n",
    "from datetime import datetime, timezone\n",
    "import ast\n",
    "from io import StringIO\n",
    "import yaml\n",
    "from openai import OpenAI\n",
    "from tabkeeper import *\n",
    "\n"
   ]
  },
  {
   "cell_type": "code",
   "execution_count": 3,
   "execution_state": "idle",
   "id": "4cd62e38-9793-4f1e-ab04-5edbd5faf3d8",
   "metadata": {},
   "outputs": [],
   "source": [
    "# Load configuration from the YAML file\n",
    "with open(\"config.yaml\", \"r\") as file:\n",
    "    config = yaml.safe_load(file)"
   ]
  },
  {
   "cell_type": "code",
   "execution_count": 4,
   "execution_state": "idle",
   "id": "6f86f634-46a9-4e86-b12d-10381eae8213",
   "metadata": {},
   "outputs": [
    {
     "name": "stdout",
     "output_type": "stream",
     "text": [
      "<tabkeeper.BonEngine object at 0x7f9fcdb87a10>\n"
     ]
    }
   ],
   "source": [
    "# Initialize BonEngine with the config\n",
    "bon_engine = BonEngine(config)\n",
    "\n",
    "# Print the initialized object to verify\n",
    "print(bon_engine)"
   ]
  },
  {
   "cell_type": "code",
   "execution_count": 5,
   "execution_state": "idle",
   "id": "64db7803-ebd4-425f-8468-7cdfecbf892b",
   "metadata": {},
   "outputs": [
    {
     "name": "stdout",
     "output_type": "stream",
     "text": [
      "Receipts: ['receipts/IMG_6536.JPEG', 'receipts/uid1234567_aldi002.JPEG', 'receipts/uid1234567_aldi003.JPEG', 'receipts/uid1234567_aldi004.JPEG', 'receipts/uid1234567_aldi005.JPEG', 'receipts/uid1234567_aldi006.JPEG', 'receipts/uid1234567_aldi007.JPEG', 'receipts/uid1234567_aldi008.JPEG', 'receipts/uid1234567_aldi009.JPEG', 'receipts/uid1234567_aldi010.JPEG', 'receipts/uid1234567_aldi011.JPEG', 'receipts/uid1234567_lidl001.JPEG', 'receipts/uid1234567_lidl002.JPEG', 'receipts/uid1234567_lidl003.JPEG', 'receipts/uid1234567_lidl004.JPEG', 'receipts/uid1234567_rewe001.JPEG', 'receipts/uid1234567_rewe002.JPEG', 'receipts/uid1234567_rewe003.JPEG', 'receipts/uid1234567_rewe004.JPEG', 'receipts/uid1234567_rewe005.JPEG', 'receipts/uid1234567_rewe006.JPEG', 'receipts/uid1234567_rewe007.JPEG', 'receipts/uid1234567_rewe008.JPEG', 'receipts/uid1234567_rewe009.JPEG', 'receipts/uid1234567_rewe010.JPEG', 'receipts/uid1234567_rewe011.JPEG', 'receipts/uid1234567_rewe012.JPEG', 'receipts/uid1234567_rewe013.JPEG', 'receipts/uid1234567_rewe014.JPEG', 'receipts/uid1234567_rewe015.JPEG', 'receipts/uid1234567_rewe016.JPEG', 'receipts/uid1234567_rewe017.JPEG', 'receipts/uid1234567_rewe018.JPEG']\n"
     ]
    }
   ],
   "source": [
    "# Import receipt names from S3\n",
    "bon_engine.o_import_receipt_names()\n",
    "\n",
    "# Print the list of receipts to verify\n",
    "print(\"Receipts:\", bon_engine.receipts)"
   ]
  },
  {
   "cell_type": "code",
   "execution_count": 6,
   "execution_state": "idle",
   "id": "bc88dc75-2a2c-458d-b37e-3d93ae18c348",
   "metadata": {},
   "outputs": [
    {
     "name": "stdout",
     "output_type": "stream",
     "text": [
      "No existing data found. Processing all receipts.\n"
     ]
    }
   ],
   "source": [
    "# Check if there is existing data in the S3 bucket\n",
    "try:\n",
    "    # Attempt to read the existing CSV file from S3\n",
    "    bon_engine.existing_df = pd.read_csv(bon_engine.s3_path)\n",
    "    print(\"Existing data found. Processing new receipts only.\")\n",
    "    \n",
    "    # Sync the receipts to process only new ones\n",
    "    bon_engine.o_sync()\n",
    "    print(\"Sync complete.\")\n",
    "    \n",
    "    # If there are no new receipts, exit early\n",
    "    if not bon_engine.receipts:\n",
    "        print(\"No new receipts to process.\")\n",
    "\n",
    "except Exception as e:\n",
    "    # If no existing data is found, process all receipts\n",
    "    print(\"No existing data found. Processing all receipts.\")\n",
    "    bon_engine.existing_df = None"
   ]
  },
  {
   "cell_type": "code",
   "execution_count": 7,
   "execution_state": "idle",
   "id": "4cec104b-eb26-4d2e-8395-20930d3d9571",
   "metadata": {},
   "outputs": [
    {
     "name": "stdout",
     "output_type": "stream",
     "text": [
      "Processing receipt: receipts/IMG_6536.JPEG\n",
      "Processing receipt: receipts/uid1234567_aldi002.JPEG\n",
      "Processing receipt: receipts/uid1234567_aldi003.JPEG\n",
      "Processing receipt: receipts/uid1234567_aldi004.JPEG\n",
      "Processing receipt: receipts/uid1234567_aldi005.JPEG\n",
      "Processing receipt: receipts/uid1234567_aldi006.JPEG\n",
      "Processing receipt: receipts/uid1234567_aldi007.JPEG\n",
      "Processing receipt: receipts/uid1234567_aldi008.JPEG\n",
      "Processing receipt: receipts/uid1234567_aldi009.JPEG\n",
      "Processing receipt: receipts/uid1234567_aldi010.JPEG\n",
      "Processing receipt: receipts/uid1234567_aldi011.JPEG\n",
      "Processing receipt: receipts/uid1234567_lidl001.JPEG\n",
      "Processing receipt: receipts/uid1234567_lidl002.JPEG\n",
      "Processing receipt: receipts/uid1234567_lidl003.JPEG\n",
      "Processing receipt: receipts/uid1234567_lidl004.JPEG\n",
      "Processing receipt: receipts/uid1234567_rewe001.JPEG\n",
      "Processing receipt: receipts/uid1234567_rewe002.JPEG\n",
      "Processing receipt: receipts/uid1234567_rewe003.JPEG\n",
      "Processing receipt: receipts/uid1234567_rewe004.JPEG\n",
      "Processing receipt: receipts/uid1234567_rewe005.JPEG\n",
      "Processing receipt: receipts/uid1234567_rewe006.JPEG\n",
      "Processing receipt: receipts/uid1234567_rewe007.JPEG\n",
      "Processing receipt: receipts/uid1234567_rewe008.JPEG\n",
      "Processing receipt: receipts/uid1234567_rewe009.JPEG\n",
      "Processing receipt: receipts/uid1234567_rewe010.JPEG\n",
      "Processing receipt: receipts/uid1234567_rewe011.JPEG\n",
      "Processing receipt: receipts/uid1234567_rewe012.JPEG\n",
      "Processing receipt: receipts/uid1234567_rewe013.JPEG\n",
      "Processing receipt: receipts/uid1234567_rewe014.JPEG\n",
      "Processing receipt: receipts/uid1234567_rewe015.JPEG\n",
      "Processing receipt: receipts/uid1234567_rewe016.JPEG\n",
      "Processing receipt: receipts/uid1234567_rewe017.JPEG\n",
      "Processing receipt: receipts/uid1234567_rewe018.JPEG\n"
     ]
    }
   ],
   "source": [
    "# Convert images to text using AWS Textract\n",
    "bon_engine.o_image_to_text()\n",
    "\n",
    "# # Print the raw text response to verify\n",
    "# print(\"Raw Text Response:\", bon_engine.receipts_raw_text)"
   ]
  },
  {
   "cell_type": "code",
   "execution_count": 8,
   "execution_state": "idle",
   "id": "39237836-896d-4128-b855-e30b7490547c",
   "metadata": {
    "collapsed": true,
    "jupyter": {
     "outputs_hidden": true
    }
   },
   "outputs": [
    {
     "name": "stdout",
     "output_type": "stream",
     "text": [
      "Extracted Text: [['r e w e', 'severinstrasse 93-95', '****', '****', '50678 köln', '****', '****', '0221-9320092', '****', 'uid nr.: de812706034', 'eur', 'pastrami', '1,99 b', 'oliven-tomatenk.', '1,29 b', 'ja! butterkaese', '2,99 b', 'blutorangensaft', '2,59 a', 'pfand 0,25 euro', '0,25 a *', 'hp pud.', '1,49 b', 'kind. bueno white', '2,10 b', 'twister mallow', '1,60 b', 'kinder bueno eis', '2.10 b', 'magnum doublehaz', '2,70 b', 'spaghetti', '1,39 b', 'knus. muesli hon', '2,59 b', 'salz mit selen', '1,29 b', '.nat. olivenoel', '8,99 b', 'pesto genovese', '1,99 b', 'summe', 'eur', '35,35', 'geg. mastercard', 'eur', '35,35', '** kundenbeleg *', '*', 'datum:', '15.03.2025', 'uhrzeit:', '19:45:23 uhr', 'beleg-nr.', '0183', 'trace-nr.', '311092', 'bezahlung', 'contactless', 'debit mastercard', 'nr.', '5748 0002', 'vu-nr.', '4556783885', 'terminal id', '56039995', 'pos-info', '00 075 00', 'as-zeit 15.03.', '19:45 uhr', 'as-proc-code = 00 075 00', 'capt. -ref. = 0000', 'approved', 'betrag eur', '35,35', 'zahlung erfolgt', 'steuer %', 'netto', 'steuer', 'brutto', 'a= 19,0%', '2,39', '0,45', '2,84', 'b= 7,0%', '30,38', '2,13', '32,51', 'gesamtbetrag', '32,77', '2,58', '35,35', 'tse-signatur:', 'qhd6an+tp19d3wwbnpr7izf+ujctzrxwg', 'ljz8+t4j/tynbz6ssp03j1kp2ga/iisfh', '7xdpvx43s0w5ajiksuqfazjdoww4v00+r', 'faos8wj5ied0rb5ebfdbcj7qenw07', 'tse-signaturzähler: 2760585', 'tse-transaktion:', '1316262', 'tse-start:', '2025-03-15t19:43:58.000', 'tse-stop:', '2025-03-15t19:45:31.000', 'seriennnummer kasse: rewe:d8:5e:d3:48:3f:f2:00', '15. 03. 2025', '19:45', 'bon-nr. : 6877', 'markt : 0006', 'kasse:3', 'bed. 432103', 'keine rabatte oder punkte auf mit *', 'gekennzeichnete produkte.', 'noch kein rewe bonus-kunde?'], ['aldi sud', 'koelner tor 12 - 14', '40625 duesseldorf-gerresh.', 'eur', '38634 trinkjoghurt', '0,89 a', '61502 bio nl clem. 750g', '1,99 a', '51096 kerryg origl 250g', '1,59 a', 's u m m e', '4,47', '3 artikel', 'kartenzahlung eur', '4,47', 'a 07,0% netto', '4.18 mwst', '0,29', '*0124 027/006/007/803 11.11.23 08:43', 'ust.-id~nr. :de 120353565', 'vielen dank für deinen einkauf', '*genau das richtige für jeden moment. . *', 'entdecke die ausgezeichnete', '*', '*', '* aldi vielfalt zum kleinen preis.', '*', '* passende artikel für deine momente', '*', \"* gibt's auf aldi-sued.de/vielfalt\", '*', 'tse', 'h-a-n-d-l-e-r-b-e-l-e-g', 'bezahlung debit mastercard', '4,47 eur', 'betrag', '11.11.2023', '08:43', 't-id 65444398', 'beleg-nr. 0046', 'ta-nr. 000068', '############5748', 'vento'], ['aldi sud', 'severinstr. 33', '50678 köln-altstadt-sill', 'eur', '830446 ofenfrische 4 käse', ', ,88 a', '824870 penne 500g', '0,79 a', '730988 vitavate loops', '1,79 a', '3796 buttertoast', '11,99 a', '807439 parboiled reis', ',59 a', '828936 prem. müsli. 500g', '1,59 a', '716108 hähn. innenf pan.', '1,99 a', '716899 lammrücken mar.', '1,84 a', '843802 toffifee weiß 125g', ',49 a', 'pfandrückg bon', '-1,50 a', '4 x', '1,99', '728800 griech. spezial.', '1,96 a', '844426 pastasauce 400ml', ',45 a', '2754 fru.-bu.-dessert', '0,59 a', '730637 cali teriycooklach', '6,99 a', 's l m m e', '41,44', '17 artikel', 'kartenzahlung', 'eur', '41,44', 'a 07,0% netto', '38,73 mwst', '1,71', '*3035 041/008/007/803 12.02.25 15:2', 'ust.-id-nr.:de 813933044', 'vielen dank für deinen einkau', '*****', '*genau das richtige für jeden moment.* .', '*', 'entdecke die ausgezeichnete *', '*', 'aldi vielfalt zum kleinen pret. *', '*', 'passende artikel für deine momente *', '*', \"gibt's auf aldi-sued.de/vielfa t *\", 'tse'], ['aldi sod', 'koelner tor 12 - 14', '40625 duesseldorf-gerresh', 'eur', '716899 lammrücken mar.', '5,32 a', '806962 milka 81-100g', '0,79 a', '713301 thunf. olivenöl', '1,99 a', '808735 fuze tea 1,25 1', '1,59 b', '6205 pfand', '0,25 b', '721922 f&g hähn. innenfil', '4,79 a', '713984 barista haferdrink', '1,35 b', '823756 haribo frucht. mix', '1,19 a', '+ kundenbeleg +', 'terminalnummer', '65243642', 'datum', '09.09.2023', 'uhrzeit', '15:41:53', 'beleg-nr.', '2961', 'transaktions-nr.', '236564', 'kartenzahlung', 'debit mastercard', 'betrag', '17,27 eur', 'karte', '############5748', 'kartenfolgenummer', '02', 'vertragsnummer', '4556664463', 'emv-aid', 'a0000000041010', 'genehmigungs- nr', 'nqfnat', 'emv-data:', '000000 (01///1/1f0302///bf95b7c5/80', 'contactless', 'zahlung erfolgt', 'as-proc-code = 0007500', 'capt.-ref.= 0000', 'approved', 'summe', '17,27', 'mastercard', 'eur', '17,27', 'a 07,0% netto 13,16 mwst', '0,92', 'b 19,0% netto', '2,68 mwst', '0,51', '*0795 027/006/001/018 09.09.23 15:42', 'unsere öffnungszeiten:', 'mo - sa: 8:00 uhr - 21:00 uhn', 'ust.-id-nr. de 120353565', 'vielen dank fur deinen einkauf', 'di sud - cutes für alle.', 'indeine personal', '.', 'grobartiger geschm', 'california', '*', 'transportwege. mehr infos auf', '*', '*', 'aldi-sued.de/aus-der-region', '*', 'kasse:', 'international.d.027.006.01', 'tse:', 'zpkpkjh2mrybhd9ecic9eq?mev4frvzahh', 'dxwcscslm=', 'start:', '2023-09-09 15:42:18', 'ende:', '2023-09-09 15:42:46'], ['aldi sud', 'koelner tor 12 - 14', '40625 duesseldorf-gerresh', 'eur', '809027 alu kaps. esp. s.', '1,89 a', '6704 mascarpone', '1,89 a', '817030 musli, knusper', '2,49 a', '826277 >steckdosenleiste', '3,49 b', 's u m m e', '9,76', '4 artikel', 'bar', 'eur', '10,00', 'a 07,0% netto', '5,86 mwst', '0,41', 'b 19,0% netto', '2,93 mwst', '0,56', '*2386 027/006/006/802 24.11.23 11:15', 'garantie', '826277 >steckdosenleiste:', '3 jahre garantie', 'ust.-id-nr. : de 120353565', 'vielen dank für deinen einkauf', '*genau das richtige für jeden moment. *', '*', 'entdecke die ausgezeichnete', '*', '* aldi vielfalt zum kleinen preis.', '*', '* passende artikel für deine momente *', \"* gibt's auf aldi-sued.de/vielfalt\", 'tse'], ['aldi süd', 'koelner tor 12 - 14', '40625 duesseldorf-gerresh', 'eur', '820697 ital. holzofen piz', '2,79 a', '820697 ital. holzofen piz', '2,79 a', '826159 bio-haferdrink 11', '0,95 b', '826159 bio-haferdrink 11', '0,95 b', '61347 bio-speisekart. 1,', '1,79 a', '824870 penne 50', '0,79 a', '821364 knoblauch wei b200g', '0,89 a', '41318 hähn. innenfilet', '4,89 a', '2240 rinderhackfleisch', '4,79 a', '816876 rispentomaten 1kg', '2,29 a', '786374 zwiebeln gelb 1kg', '0,88 a', '816337 spaghetti 500g', '0,79 a', '722083 bio huelsenfruecht', '2,49 a', '718411 premium passata', '1,69 a', '+ kundenbeleg +', 'terminalnummer', '65243537', 'datum', '21.10.2023', 'uhrzeit', '20:23:30', 'beleg-nr', '9559', 'transaktions-nr.', '526124', 'kartenzahlung', 'debit mastercard', 'betrag', '28,77 eur', 'karte', '#5748', 'kartenfolgenummer', '02', 'vertragsnummer', '4556664463', 'emv-aid', 'a0000000041010', 'genehmigungs-nr', 'nhyxls', 'emv-data:', '0000008001/////1f0302/7/ffa420aa/80', 'contactless', 'zahlung erfolgt', 'as-proc-code = 00 075 00', 'capt.-ref = 0000', 'approved', 's u m m', 'e', '28.77', 'mastercard', 'eur', '28,77', 'a 07,0% netto', '25,11 mwst', '1,76', 'b 19,0% netto', '1,60 mwst', '0,30', '*3659 027/006/002/011 21.10.23 20:23', 'unsere öffnungszeiten:', 'mo - sa: 8:00 uhr - 21:00 uhr', 'ust.-id-nr.', 'vielen dank für deinen einkauf', 'aldi sod - gutes für alle.', 'nur nur natur.', '*', '* unsere neue eigenmarke nach höchsten *', '*', 'bio-standards jetzt entdecken!', '*', '*', '*', 'mehr auf aldi-sued.de/nur-nur-natur *', 'th3d'], ['theid', 'aldi süd', 'koelner tor 12 - 14', '40625 duesseldorf-gerresh.', 'eur', '816337 spaghetti 500g', '0,79 a', '41318 hähn. innenfilet', '4,89 a', '718438 premium pesto 190g', '1,49 a', '822280 nougat bits 750g', '2,99 a', '812043 bio-musli, klassik', '3,19 a', '54559 vanillestange', '0,39 a', '54559 vanillestange', '0,39 a', '54559 vanillestange', '0,39 a', '7466 vollkonntoast', '1,19 a', '+kundenbeleg +', 'terminalnummer', '65243537', 'datum', '13.10.2023', 'uhrzeit', '17:41:48', 'beleg-nr.', '6578', 'transaktions-nr', '522959', 'kartenzahlung', 'debit mastercard', 'betrag', '15,71 eur', 'karte', '############5748', 'kartenfolgenummer', '02', 'vertragsnummer retter 2', '4556664463', 'emv-aid', 'a0000000041010', 'genehmigungs-nr', 'nuv45h', 'emv-data:', '0000008001//11/1f0302/1/70ac8799/80', 'contactless', 'x', 'zahlung erfolgt', 'as-proc-code = 00 075.00', 'l', 'capt.-ref. = 0000', 'approved', 's e m m e', '15,71', 'mastercard', 'eur', '15,71', 'a 07,0% netto 14,68 mwst', '1,03', '*5258 027/006/002/018 13.10.23 17:42', 'unsere öffnungszeiten:', 'mo - sa: 8:00 uhr - 21:00 uhr', 'ust.-id-nr.:', 'vielen dank für deinen einkauf', 'aldi süd - gutes für alle.', '*', 'alle denken teuer. du denkst aldi. *', '*', 'entdecke unsere große vielfalt an', '*', '* eigenmarken. jetzt in deiner filiale *', '*', 'und auf aldi-sued.de/eigenmarken', '*', 'kasse:', 'international.d.027.006.02', 'tse:', '2zpkpkjh2mrybhd9ecic9eq7mev4frvzahh', 'dxwcscslm=', 'start:', '2023-10-13 17:42:30', 'ende: 2023-10-13 17:43:00', 't.-nr.: 1603661', 's.-nr.: 3298880', 'sig.: baeuptjkydf/4xc3604igts+ifh6rr8nek', 'h38x2u0drnh+rfi9udol.hngx+/cu73i3vc', '/yqlzopiciiiqp73gzfyx4bgirlvrmze4', '+xnntfvhncvrairjr71iwfuwi)'], ['aldi süd', 'koelner tor 12 - 14', '40625 duesseldorf-gerresh.', 'eur', '820697 ital. holzofen piz', '2,79 a', '720078 muller kef/ayran', '0,88 a', '41318 hähn. innenfilet', '3,79 a', '710922 orangensaft 1 l', '1,79 b', '**** abgewiesen ****', '**** abgewiesen ****', 'pfandrückg bon', 'u', '-1,50 b', '+ k uundenbeleg +', 'terminalnummer', '65243537', 'datum', '16.09.2023', 'uhrzeit', '20:22:26', 'beleg-nr.', '8786', 'transaktions-nr.', '514675', 'kartenzahlung', 'debit mastercard', 'betrag', '7,75 eur', 'karte', 'kartenfolgenummer', '02', 'vertragsnummer', '4556664463', 'emv-aid', 'a0000000041010', 'genehmigungs-nr.:', 'n2zyl7', 'emv-data:', '0000048000/e800/0000000000/fe50bcf800/', 'fe50bca000/420300/4/9012900002303000000', 'b000e80001/2694d05e/40', 'zahlung erfolgt', 'as-proc-code = 00 055 00', 'capt.-ref.= 0000', 'approved', '7.75', 's um na', 'mastercard', 'eur', '7.75', '0% netto', '6,97 mwst', '0,49'], ['aldi süd', 'severinstr. 33', '50678 köln-altstadt-sud', 'eur', '724100 landmilch 3,8% 1l', '1,25 a', '6209 pfand', '0,25 a', '836682 eisriegel', '3,49 a', '1394 ital. . dessert', '2,99 a', '816337 spaghetti 500g', '0,79 a', '844426 pastasauce 400ml', '1,45 a', '817388 mandarinen 1kg', '1,59 a', '45599 joghurt mild 3,5%', '0,99 a', '61453 family-mix', '1,19 a', '716108 hähn. innent . pan.', '4,99 a', '706160 corned beef', '2,69 a', '824185 white flakes & nut', '2,79 a', 's u m m e', '24,46', '12 artikel', 'b a r', 'eur', '24,46', 'a 07,0% netto', '22,86 mwst', '1,60', '*6708 041/008/005/801 24.02.25 18:52', 'ust.-id-nr. de 813933044', 'vielen dank für deinen einkauf', '*genau das richtige für jeden moment. *', '*', 'entdecke die ausgezeichnete', '*', '* aldi vielfalt zum kleinen preis. *', '* passende artikel für deine momente *', \"* gibt's auf aldi-sued.de/vielfalt *\", 'tse'], ['aldi süd', 'koelner tor 12 - 14', '40625 duesseldorf-gerresh.', 'eur', '54226 vollkorn-sandwich', '1,49 a', '807240 bio-ingwer 300g', '1,29 a', '61347 bio-speisekart. 1,', '1,89 a', '710715 bio-haferdrink 11', '0,95 b', '781033 bio-karotten 1kg', '0,99 a', '718943 bio tomaten pass', '0,99 a', '41318 hähn, innenfilet', '4,89 a', '808351 zitronen 500g', '1,19 a', '826403 gl: avocado stück', '0,85 a', '826403 gl: avocado stück', '0,85 a', '814306 grünen tee', '0,99 a', '61026 zwiebelspezialiäte', '1,79 a', '+ kundenbeleg +', 'terminalnummer', '65243642', 'datum', '02.10.2023', 'uhrzeit', '16:42:31', 'beleg-nr.', '7784', 'transaktions-nr.', '241696', 'kartenzahlung', 'debit mastercard', '18.16 eur', 'betrag', '5748', 'karte', '02', 'kartenfolgenummer', '4556664463', 'vertragsnummer', 'emv-aid', 'a0000000041010', 'nd5dd2', 'genehmigungs-nr.', 'emv-data:', '0000008001/////1f0302///a50f65bf/80', 'contactless', 'zahlung erfolgt', 'as-proc-code = 0007500', 'capt.-ref. . = 0000', 'approved', 's u m m e', '18,16', 'mastercard', 'eur', '18,16', 'a 07,0% netto', '16,08 mwst', '1,13', 'b 19,0% netto', '0,80 mwst', '0,15', '*5372 027/006/001/021 02.10.23 16:43', 'unsere öffnungszeiten:', 'mo - sa: 8:00 uhr - 21:00 uhr'], ['di süd', 'koelner tor 12 - 14', '40625 duesseldorf-gerresh.', 'eur', '822716 zimt chips', '2,99 a', '824905 $:a0: 2en messerse', '3,99 b', '809783 nachfüllpack', '2,29 b', '817520 bio-müsli, frucht', '3,19 a', '705162 knobl. pizzabrot', '1,99 a', '700482 wc-duftjuwelen', '0,95 b', '710715 bio-haferdrink 11', '0,95 b', '+kundenbeleg +', 'terminalnummer', '65243537', 'datum', '05.09.2023', 'uhrzeit', '18:39:01', 'beleg-nr.', '4651', 'transaktions-nr.', '510267', 'kartenzahlung', 'debit mastercard', 'betrag', '16,35 eur', 'karte', '############5748', 'kartenfolgenummer', '02', 'vertragsnummer', '4556664463', 'emv-aid', 'a0000000041010', 'genehmigungs- nr', 'nc1svv', 'emv-data:', '0000008001/////1f0302///c88e7112/80', 'contactless', 'zahlung erfolgt', 'as-proc-code = 00 075 00', 'capt.-ref. = 0000', 'approved', 'summe', '16,35', 'mastercard', 'eur', '16,35', 'a 07,0% netto', '7,64 mwst', '0,53', 'b 19,0% netto', '6.87 mwst', '1,31', '*0139 027/006/00', '05.09.23 18:39', 'unsere', 'gszeiten:', 'mo - sa: 8: one - 21:00 uhr', 'ust.-id-nr. de 120353565', 'vielen dank für deinen einkauf', 'aldi süd .. gutes für alle.', '*', 'hol dir deine portion region! kurze', '*', '*', 'grobartiger geschmack und auf', '* i', '*', '*', 'transportwege. mehr infos', '*', 'aldi-sued.de/a.s-der-region', 'kasse: international.d.027.006.02', 'tse:', 'dxwcscslm=', 'start: 2023-09-05 18:39:25', 'ende:', '2023-09-05 18:39:55', 't.-nr.: 1530996', 's.-nr.: 3153409', 'sig.:'], ['dreher str. 175', '40625 düsseldorf', 'eur', 'rind.rumpst. steakpf', '5,80 a', '0,290 kg x 19,99 eur/kg', 'petersilie', '1,49 a', 'fr.eier.a.bo.h.10er', '1,99 a', 'reis kochbeutel', '2,35 a', 'bio passierte tomat.', '0,99 a', 'pepsi cola', '1,49 b', 'pfand 0,25 m', '0,25 b', 'zu zahlen', '14,36', 'kreditkarte', '14,36', 'mwst%', 'mwst', '+', 'netto', '=', 'brutto', 'a 7 %', '0,83', '11,79', '12,62', 'b-19%', '0,28', '1,46', '1,74', 'summe', '1,11', '13,25', '14,36', ': lade dir die lidl plus app herunter', ':', '|und spare bei deinem nächsten einkauf.', 'tse transaktionsnummer : 511133', 'seriennr. kasse: ldl-000-6209-4', 'prüfwert: uiecgap2ccuo6/vxh+0xq/1st3y0qqzi', 'tzcaw0zauyizn064mmipnxe2qsncowljp9sgjwqqv', 'mrc4tsldvxv96dvsjprbobtclwdkj0yurhrpqfoqjg', 'v+wqh5nwm/xf', 'signaturzähler: 1036942', '2023-09-02t09:22:55.000z', '2023-09-02t09:23:20.000z', '6209 235810/04', '02.09.23 11:22', 'ust-id-nr: de813389002', 'k-u-n-d-e-n-b-e-l-e-g', 'bezahlung mastercard', 'betrag', '14,36 eur', '02.09.2023', '11:22', 't-id 60152668', 'ta-nr. 132519', 'beleg-nr. 7197', '535585######5748 02', 'kartennr.', 'kontaktlos chip', 'online', '455600472057', 'vu-nummer', 'n1vexl', 'miciorungsnummer'], ['lodl', 'dreher str. 175', '40625 düsseldorf', 'eur', 'bio hokkaido', '2,22 a', '1,116 kg x 1,99 eur/kg', 'lammmed.a.d.keu', '7,08 a', '0,308 kg x 22,99 eur/kg', 'bio mohren', '1,49 a', 'avocado stk.', '1,11 x', '2', '2,22 a', 'jogh mild 500g', '0,85 a', 'grana padano gerieb.', '2,49 a', 'emmentaler stück', '3,59 a', 'bio haferdrink', '0,95 b', 'hafer barista drink', '1,25 b', 'rejati', 'basmati reis', '2-19 a', 'spaghetti 500g', '0,79 a', 'eier 10er oki', '2,29 a', 'pesto genovese', '1,19 a', 'butter toast', '1,19 a', 'nestle kitkat bl.&wh', '1,19 a', 'somat tabs gold 80t.', 'bi.13,99 b', 'zu zaflen', '45,77', 'kreditkarte', '45,77', 'mwst%', 'mwst i', 'netto', '=', 'brutto', 'a 7%', '1,94', '27,64', '29,58', 'b 19%', '2,58', '13,61', '16,19', 'summe', '4,52', '41,25', '45,77', ':', 'lade dir die lidl plus app herunter', ':', ';und spare bei deinem nächsten finkauf', 'e', 'ise transaktionsnummer: 633578', 'seriennr. kasse: ldl-000-6209-4', 'secienci. ise:', 'qp/gp/xamn5q', 'signaturzahler: 1285224', '2023 17 09113:59:00.000z', '2023 11 19113:59:34.0007', '6209 275752/04', 'ust id nr: dl813389002', '09.11.23 14:59', 'k-u-n-d-e e l-e g'], ['lodl', 'dreher str. 175', '40625 düsseldorf', 'eur', 'bio kaki/sharon', '2,29 a', 'taschki pelm.hähnche', '6,66 a', 'knoblauchbaguette', '0,99 a', 'lakt.fr.naturjoghurt 0,95 x', '2', '1,90 a', 'frischkäse natur', '1,19 a', 'roastbeef natur', '2,79 a', 'nat.olivenöl m.rosma', '3,99 a', 'marella lingu.chilli', '1,79 a', 'marellalingu.tintenf', '1,79 a', 'bio haferdrink', '0,95 b', 'tagliatelle nester', '1,29 a', 'gew. bandnudeln safr', '1,99 a', 'veganes pesto grün', '1,19 a', 'coca cola 1,251', '0,99 b', 'pfand 0,25 m', '0,25 b', 'weizentoast', '0,99 a', 'milka cake & choc', '1,59 a', 'milka chocominis', '1,59 a', 'rinder cevapcici', '2,47 a', 'zu zahlen', '36,69', 'bar', '50,00', 'rückgeld', '-13,31', 'mwst%', 'mwst', 'the', 'netto', '=', 'brutto', 'a 7%', '2,26', '32,24', '34,50', 'b 3 19 %', '0,35', '1,84', '2,19', 'summe', '2,61', '34,08', '36,69', 'lade dir die lidl plus app herunter', '|und spare bei deinem nächsten einkauf', 'tse transaktionsnummer: 657715', 'seriennr. kasse: ldl-000-6209-4', 'seriennr. tse: 0gvgflbx4pyyt0x5wzzzvjh+cp6', 'qdckk6rn1cfgtapo=', 'prüfwert: hwj18d+mmrnr8icprwuswlb1ebacl.vc5', 'kxlq8zzglbpbsl9gmpnbn/gj9bawt4gy2hs/ggnlj', 'wmecdzvw8/asyx9sketz+pyckmswgsuilvren6k7mz', 'qfsjimm15rwn', 'signaturzähler: 1334233', '2023-11-23t12:41:45.000z', '2023-11-23t12:42:27.000z', '6209 282786/04', '23.11.23 13:41'], ['lidl', 'dreher str. 175', '40625 düsseldorf', 'eur', 'avocado stk.', '1,11', '2', '2,22 a', 'orangen', '2,79 a', 'lakt.fr.naturjoghurt', '0,95 a', 'tiramisu', '2,99 a', 'penne rigate', '0,79 a', 'schmelzäsez. sahnig', '2,19 a', 'fusilli', '0,79 a', 'bio haferdrink', '0,95 b', 'hafer barista drink', '1,25 b', 'süße oran.-marmelade', '1,69 a', 'schoko knuspermüsli', '2.49 a', 'tomatens. arrabbiata', '1,59 a', 'tom.-sauce siciliana', '1,99 a', 'kidney-bohnen', '0,69 x', '2', '1,38 a', 'bio geh.tom.basilik.', '0,75 a', 'butter toast', '1,19 a', 'biol.körnerlaib', '1,99 a', 'trumpf lebkuchen wei', '0,79 a', 'nussmix pistazien', '2,79 a', 'softfrüchte datteln', '1,99 a', 'hähnchenbr.filet600g', '5,99 a', 'kalbsrück. pfeffer', '3,29 a', 'zu zahlen', '42,84', 'kreditkarte', '42, 84', 'mwst%', 'mwst', '+', 'netto', '=', 'brutto', 'a 7%', '2,66', '37,98', '40,64', 'b 19 %', '0,35', '1,85', '2,20', 'summe', '3,01', '39,83', '42,84', ':', 'lade dir die lidl plus app herunter', ':', '|und spare bei deinem nächsten einkauf', ':', 'ma', 'tse transaktionsnummer: 648272', 'seriennr. kasse: ldl-000-6209-3', 'seriennr. tse: 0gvgflbx4pyytox5wzzzvjh+cp6', 'qdckk6rn1cfgtapo=', 'prüfwert: tipttope942wpck/10dlyvw1zw4t5c15', '00pdh6xalfwbkqxvz0eogyigns3nyugpsqg4innjhr', 'dzwhriurlfgj', 'signaturzähler: 1315037', '2023-11-17t17:12:33.000z', '2023-11-17t17:13:32.000z', '6209', '299234/03', '17.11.23 18:12', 'ust-id-nr: de813389002', 'ku-n-d-e-n-b-e-l-e-g', 'bezahlung mastercard'], ['rewe', '*** benderstraße 70 ***', '***', '40625 düsseldorf-gerresheim ***', '*** tel. 0211-9293831 ***', 'uid nr. : de812706034', 'eur', 'ha-brustfilet', '5.99 b', 'finello gratink.', '2,98 b', '2 stk x', '1,49', 'vollkorntoast', '1.89 b', 'zwiebel lauch', '0,89 b', 'champ. weiss', '1,79 b', 'joghurt butter', '2,59 b', 'fruchtbutter', '1,29 b', 'bio haf-soja-dri', '1,35 a', 'linguine', '1,99 b', 'nougat bits', '2,99 b', '100% italiano', '10,49 b', 'tomatensauce', '1,59 b', 'pistazien gesalz', '3,79 b', 'cashews pikant', '2,19 b', 'lindor tafel', '2,69 b', 'creation de luxe', '3,69 b', 'summe', 'eur', '47,19', 'geg. mastercard', 'eur', '47,19', '*', '*', 'kundenbeleg', '**', 'datum:', '21.08.2023', 'uhrzeit:', '20:50:30', 'beleg-nr.', '9050', 'trace-nr.', '490124', 'bezahlung', 'kontaktlos', 'debit mastercard', 'nr.', '5748 0002', 'vu-nr.', '4556783398', 'terminal-id', '56002259', 'pos-info', '00 073 00', 'as-proc-code = 00 075 00', 'as-zeit 21.08.', '20:50 uhr', 'capt. -ref. = 0000', 'approved', 'betrag eur', '47,19', 'zahlung erfolgt', 'netto', 'steuer', 'steuer %', 'brutto', '1,13', 'a= 19,0%', '0,22', '1,35', '42,84', 'b= 7,0%', '3,00', '45,84', 'gesamtbetrag', '43,97', '3,22', '47,19', 'tse-signatur:', 'hgfdyxccmghzmazhv0ghbl7udquhot198', 'tse-signaturzahler: 297602 634571', 'tse-start:', '2023-08-21t20:49:45.000', '2023-08-21120:50:42:000', 'seriennnummer tse-stop: kasse:', 'reue:00:01:2e:5f:a8:a2:00', '20:50', '21. 08. 2023', 'markt : 0105', 'kasse 1', 'bon-nr. : 5891', 'bed. : 313131', 'noch keine payback karte?', 'für diesen einkauf hättest du', '23 punkte erhalten!', 'gleich in der rewe app oder auf', 'www.rewe.de/payback anmelden.', 'rewe markt gmbh'], ['rewe', '*** benderstraße 70 ***', '*** 40625 düsseldorf-gerresheim ***', '*** tel. 0211-9293831 ***', 'uid nr. : de812706034', 'eur', 'avocado vorger.', '1,78 b', '2 stk x', '0,89', 'bio haf-soja-dri', '1,35 a', 'pesto verde', '1,29 b', 'packband transp', '2,99 a', 'summe', 'eur', '7,41', 'geg. mastercard', 'eur', '7,41', '**', 'kundenbeleg', '**', 'datum:', '23.08.2023', 'uhrzeit:', '19:45:39 uhr', 'beleg-nr.', '6224', 'trace-nr.', '584908', 'bezahlung', 'kontaktlos', 'debit mastercard', 'nr.', '############5748 0002', 'vu-nr.', '4556783398', 'terminal-id', '56002260', 'pos-info', '00 073 00', 'as-zeit 23.08.', '19:45 uhr', 'as-proc-code = 00 075 00', 'capt.-ref. = 0000', 'approved', 'betrag eur', '7,41', 'zahlung erfolgt', 'steuer %', 'netto', 'steuer', 'brutto', 'a= 19,0%', '3,65', '0,69', '4,34', 'b= 7,0%', '2.87', '0.20', '3,07', 'gesamtbetrag', '6,52', '0,89', '7,41', 'tse-signatur:', 'digum3ljl6szjkktydmds+akbzllq7hd', 'dgi5zdp0ugicg5kzea7hxpa6m7mgqwiif', 'kkgwteommsd4krxz3jkdmwghopb+ytpul', '90a9zrchsbnebyi0mmwb5ns+cspap', 'ise-signaturzähler:', '387562', 'ise-transaktion:', 'ise-start:', '183549', 'ise-stop:', '2023-08-23t19:47:13.000', 'seriennnummer kasse:', '23. 08. 2023', 'markt:0105', 'bon-nr.:961', 'kasse:2 bed. 212121', 'noch keine payback karte?', 'für diesen einkauf hättest du', '3 punkte erhalten!', 'gleich in der rewe app oder auf', 'rewe.de/payback anmelden.', 'rewe markt gmbh', 'sie haben fragen?', 'antworten gibt es unter www.rewe. de'], ['rewe', 'bruchstraße 89-91', '40235 düsseldorf- flingern', 'tel. 0211-236033', 'uid nr. : de812706034', 'eur', 'bio dinkeldrink', '0,99 a', 'stuff crust sal.', '3,79 b', 'mundspuelung', '0,85 a', 'toipa feucht', '1,25 a', 'jmme', 'eur', '6,88', 'geg. mastercard', 'eur', '6,88', '**', 'kundenbele', '**', 'datum:', '22.08.2023', 'uhrzeit:', '18:03:24 uhr', 'beleg-nr.', '2771', 'trace-nr.', '735772', 'bezahlung', 'kontaktlos', 'debit mastercard', 'nr.', '#', '5748 0002', 'vu-nr.', '4556783232', 'terminal-id', '56002272', 'pos-info', '00 073 0', 'as-zeit 22.08.', '18:03 uhr', 'as-proc-code = 00', '10', 'capt.-ref. = 0000', 'approved', 'betrag eur', '6,88', 'zahlung erfolgt', 'steuer %', 'netto', 'steuer', 'brutto', '2.60', '0,49', '3.09', 'a= 19,0%', 'r= 7,0%', '3,54', '0,25', '3.79', '6.14', '0,74', '6,88', 'gesamtbetrag', 'tse-signatur:', 'z4gr5ycx+60+70ijn8q0yefyrwzlslrif', '4605gr++d7k9qp5hij6f5cj2dhnti9aat', '4p0hhupvf5cspd70/319d0ve5nxmyg3w', 'tf5hbbgth/pt7xp2xpern29yqjmzn', 'ise-signaturzahler:', '1343792', 'tse-transaktion', '644558', 'start:', '2023-08-22t18:05:20.00', 'seriennnummer kasse: rewe:00:01:2e:62:b1:9e:00', 'ise-stop:', '2023-08-22118:05:38.000', '22.08.2023', '18:05', 'bon-nr. : 2947', 'markt : 0108', 'kasse: bed. 727272', 'noch keine payback karte?', 'für diesen einkauf hättest du', '3 punkte erhalten!', 'gleich in der rewe app oder auf', 'irrewer de/payback anmelden.', 'rewe markt gmbh', 'sie haben fragen?', 'a.', 'gibt', 'es', 'www.', 'rewe.', 'de'], ['rewe', '*** benderstraße 70 ***', \"** 40625 düsse'dorf-gerresheim ***\", '*** tel. 0211-9293831 ***', 'uid nr. : de812706034', 'eur', 'frischk. kraeute', '1,39 b', 'eisbergsalat', '0,79 b', 'tomate', '0,410 kg x', '3,99 eur/kg', '1,64 b', 'tomate', '-1,64 b', '-0.410 kg x 3,99 eur/k', 'tomate', '0,654 kg x 3,99 eur/kg', '2,61 b', 'bratpaprika', '1.69 b', 'bio dinkeldrink', '0,99 a', 'fruchtjogh. nuss', '0,59 b', 'pommes frites', '1,99 b', 'hollandaise klas', '1,19 b', 'pesto verde', '1,29 b', 'lays pizza hut m', '1,99 b', 'pizzaringe', '0,99 b', 'erdnusslocken', '1,19 b', 'ncc alu espresso', '3,69 b', 'lebensmittel', '3,29 b', 'summe', 'eur', '23,68', 'geg. mastercard', 'eur', '23,68', '* * kundenbeleg', '**', 'datum:', '02.09.2023', 'uhrzeit:', '15:07:35', 'beleg-nr.', '8532', 'trace-nr.', '587469', 'bezahlung', 'kontaktlos', 'debit mastercard', 'nr.', '5748 0002', 'vu-nr.', '4556783398', 'terminal-id', '56002260', 'pos-info', '00 073 00', 'a. zeit 02.09.', '15:07 uhr', 'as-proc-code = 00 075 00', 'capt.-ref. = 0000', 'approved', 'betrag eur', '23, 68', 'zahlung erfolgt', 'netto', 'steuer', 'steuer %', 'brutto', '0,83', '0,16', '99', 'a= 19,0%', '21,21', '1,48', 'b= 7,0%', '69', '22,04', '1,64', 'gesamtbetrag', '25,68', 'qznmuhfpileohpmp/l24pmat4rbaaty28', 'tse-signatur:', 'ccbbn', 'xdaf12ixunrd926 f1k1', 'ise-signaturzahle 4025 1906', 'tse-transaktion:', '202', 'tse-start:', '-02t15:08:43.000', '02ary9-02t15:09:44.000', 'seriennnummer tse-stop: kasse: rewe:00:01:2e:f 15:09 18:96:00', 'marke:0168', 'bon-nr. 6761', 'kasse:2', 'bed. 31313', 'noch keine payback karte?', 'für diesen einkauf huttest du', '11 punkte erhalten!', 'gleich in der rewe app oder auf', 'www.rewe.de/payback anmelden.'], ['rewe', '*** benderstraße 70 ***', '*** 40625 düsseldorf-gerresheim ***', '*** tel. 0211-9293831 ***', 'uid nr. : de812706034', 'eur', 'koerner balance', '1,89 b', 'feige blau', '3.16 b', '4 stk x 0,79', 'passionsfrucht', '1,96 b', '4 stk x 0,49', 'avocado vorger.', '1,29 b', 'protein z co-sch', '1,69 b', 'ayran jogh. getr.', '0,95 b', 'tortiglioni', '1,39 b', 'spaghetti', '1,39 b', 'malibu pineapple', '2,69 a', 'pfand 0,25 euro', '0,25 a *', 'ncc alu espresso', '3,69 b', 'summe', 'eur', '20,35', 'geg. mastercard', 'eur', '20,35', '** kundenbeleg', '*', '*', 'datum:', '09.09.2023', 'uhrzeit', '15:23:02 uhr', 'beleg-nr.', '4093', 'trace-nr.', '495670', 'bezahlung', 'kontaktlos', 'debit mastercard', 'nr.', '5748 0002', 'vu-nr.', '4556783398', 'terminal-id', '56002259', 'pos-info', '00 073 00', 'as-zeit 09.09.', '15:23 uhr', 'as-proc-code = 00 075 00', 'capt.-ref. = 0000', 'approved', 'betrag eur', '20,35', 'zahlung erfolgt', 'steuer %', 'netto', 'steuer', 'brutto', 'a= 19,0%', '2,47', '0,47', '2.94', 'b= 7,0%', '16,27', '1,14', '17.41', 'gesamtbetrag', '18,74', '1,61', '20,35', 'tse-signatur:', 'py9bi1ejakdhzafranrd2dyq5hvtq8gt*', 'burlserxcmxxsu+uz6y21zgffmnjknole', 'e3wi+br6gbfzs+7b50jbjcngs/ysw', 'tse-signaturzähler', '663661', 'tse-transaktion:', '311407', 'tse-start:', '2023-09-09t15:21:59.000', 'tse-stop:', '2023-09-09t15:23:07.000', 'seriennnummer kasse:', 'rewe:00:01:2e:5f:a6:a2:00', '09.09.2023', '15:23', 'markt : 0105', 'bon-nr 8330', 'kasse:', 'bed. : 101010', 'noch keine payback karte?', 'für diesen einkauf hättest du', '10 punkte erhalten!', 'gleich in der rewe app oder auf', 'www. rewe. de/payback anmelden.', 'keine rabatte oder punkte', 'mit'], ['rewe', '****', 'severinstrasse 93-95', '****', '50678 köln', '****', '****', '****', '0221-9320092', '****', 'uid nr. : de812706034', 'eur', 'ja! butterkaese', '2,99 b', 'eier fh weiss', '2,69 b', 'summe', 'eur', '5,68', 'geg. bar', 'eur', '6,00', 'rückgeld bar', 'eur', '0,32', 'steuer %', 'netto', 'steuer', 'brutto', 'b= 7,0%', '5,31', '0,37', '5,68', 'gesamtbetrag', '5,31', '0,37', '5,68', 'tse-signatur:', 'iitzd8x1hzrktbn0btjj7bhmtl6fee0ad', 'psbzd4f1x0ljj1s1vumur501xxbsusdal', '3yon1u+dkadsqbyfc2mrsz+yqzhotia+1', '9prk9ty8dyvmsxfgj5e4z/qomogg2', 'tse-signaturzähler', '4618206', 'tse-transaktion:', '2246259', 'tse-start:', '2025-02-20t13:51:03.000', 'tse-stop:', '2025-02-20t13:51:16.000', 'seriennnummer kasse: reme:e0:d5:5e:c6:d5:10:00', '20.02.2025', '13:51', 'bon-nr. : 9135', 'markt: 0006', 'kasse:2', 'bed. 171717', 'noch kein rewe bonus-kunde?', 'jetzt in der rewe app anmelden', 'und bonus-guthaben sammeln!', 'rewe markt gmbh', 'sie haben fragen?', 'antworten gibt es unter www.rewe.de'], ['r e w e', '****', 'severinstrasse 93-95', '****', '****', '50678 köln', '****', '****', '0221-9320092', '****', 'uid nr. : de812706034', 'eur', 'esl milch 3,5%', '2,18 b', '2 stk x 1,09', 'bumi pfirs-nekt', '1,29 b', 'pfand 0,25 euro', '0,25 b *', 'pringles sour cr', '1,69 b', 'pistazie', '2,19 b', 'milka schoko&lu', '1,11 b', 'erdb. jogh. schoko', '1,11 b', 'summe', 'eur', '9,82', 'geg. mastercard', 'eur', '9,82', '**', 'kundenbeleg', '**', 'datum:', '19.02.2025', 'uhrzeit:', '23:14:38', 'beleg-nr.', '1097', 'trace-nr.', '304383', 'bezahlung', 'debit mastercard', 'nr.', '############5748 0002', 'vu-nr.', '4556783885', 'terminal-id', '56039996', 'pos-info', '00 055 00', 'as-zeit 19.02.', '23:14 uhr', 'as-proc-code = 00 005500', 'capt.-ref. = 0000', 'approved', 'betrag eur', '9,82', 'zahlung erfolgt', 'steuer %', 'netto', 'steuer', 'brutto', 'b= 7,0%', '9,18', '0,64', '9,82', 'gesamtbetrag', '9,18', '0,64', '9,82', 'ise-signatur:', 'tnyotwpvootdcfzckx0os9av64usvdn1f', 'qyblfevukxm1rti2szpjg+rkuxuafjudt', 'lrfvwqkzwtqj6gopvyo4d0pwnh4q7fiqg', 'ipiwntwjyku+z5cbmq0gfu0wcbldn', 'tse-signaturzähler:', '4616487', 'tse-transaktion', '2245429', 'tse-start', '2025-02-19t23:13:37.000', 'tse-stop:', '2025-02-19t23:15:13.000', 'seriennnummer kasse: rewe:d8:5e:d3:48:3f:26:00', '19. 02. 2025', '23:15', 'bon-nr. : 4921', 'markt : 0006', 'kasse:4', 'bed. 432104', 'keine rabatte oder punkte auf mit *', 'gekennzeichnete produkte.', 'noch kein rewe bonus-kunde?', 'jetzt in der rewe app anmelden', 'und bonus-guthaben sammeln!', 'rewe markt gmbh'], ['rewe', '****', 'severinstrasse 93-95', '****', '****', '50678 köln', '****', '****', '0221-9320092', '****', 'uid nr. de812706034', 'eur', 'anno dinkelsaat', '2,39 b', 'veg. hackbaellch', '2.99 b', 'veg. morta gart', '1,59 b', 'blutorangensaft', '2.59 a', 'pfand 0, 25 euro', '0,25 a *', 'avocado anger.', '1.39 b', 'bumi erdbeere', '1.29 b', 'pfand 0.25 euro', '0,25 b *', 'summe', 'eur', '12,74', 'geg. mastercard', 'eur', '12,74', '**', 'kundenbeleg', '*', '*', 'datum:', '20.01.2025', 'uhrzeit:', '13:20:38 uhr', 'beleg-nr.', '1947', 'trace-nr.', '231964', 'bezahlung', 'contactless', 'debit mastercard', 'nr', '####5748 0002', 'vu-nr.', '4556783885', 'terminal-id', '56039999', 'pos-info', '00 075 00', 'as-zeit 20.01.', '13:20 uhr', 'as-proc-code = 00 075 00', 'capt.-ref. = 0000', 'approved', 'betrag eur', '12,74', 'zahlung erfolgt', 'steuer %', 'netto', 'steuer', 'brutto', 'a= 19,0%', '2,39', '0,45', '2,84', 'b= 7,0%', '9,25', '0.65', '9,90', 'gesamtbetrag', '11,64', '1,10', '12,74', 'tse-signatur:', 't4f1hqjd4zrlhk0n8w1vrs7ry2hxxwup+', 'g5i/k3p7mnkjbzwza5ugxcdrbpgynwufn', '4+z8bi1smdngcqpm4sdtj7fynfozibtj2', 'am+tanjhpc1m3r/lkawyctudr4cfa', 'tse-signaturzähler 2539116', 'tse-transaktion: 1207841', 'tse-start: 2025-01-20t13:20:52.000', 'tse-stop: 2025-01-20t13:21:22.000', 'seriennnummer kasse: reue:d8:5e:d3:48:3f:e9:00', '20. 01.2025', '13:21', 'bon-nr. 2152', 'markt:0006', 'kasse:6 bed. 432106', 'keine rabatte oder punkte auf mit *', 'gekennzeichnete produkte.', 'noch kein rewe bonus-kunde?', 'jetzt in der rewe app anmelder', 'und keine vorteile verpassen!', 'mit diesem einkauf hättest du', '0,40 eur bonus-guthaben durch', 'bonus-aktionen gesammelt - und mit', 'coupons holst du noch mehr raus!', 'rewe markt gmbh', 'sie haben fragen?', 'antworten gibt es unter www.rewe. de', 'barcode bitte am ausgang scannen', '2300061737375642', 'bonts'], ['rewe', '****', 'severinstrasse 93-95', '****', '****', '50678 köln', '****', '****', '0221-9320092', '****', 'uid nr. : de812706034', 'eur', 'corned beef', '2,39 b', 'ja! butterkaese', '2,99 b', 'gruener multi', '2.69 a', 'pfand 0,25 euro', '0,25 a *', 'tiramisu', '1,69 b', 'summe', 'eur', '10,01', 'geg. mastercard', 'eur', '10,01', '*', '* kundenbeleg', '* *', 'datum:', '04.03.2025', 'uhrzeit:', '15:55:57 uhr', 'beleg-nr.', '6875', 'trace-nr.', '219201', 'bezahlung', 'contactless', 'debit mastercard', 'nr.', '5748 0002', 'vu-nr.', '4556783885', 'terminal-ii', '56039997', 'pos-info', '0007500', 'as-zeit 04.03.', '15:55 uhr', 'as-proc-code = 00 075 00', 'capt.-ref. = 0000', 'approved', 'betrag eur', '10,01', 'zahlung erfolgt', 'steuer %', 'netto', 'steuer', 'brutto', 'a= 19,0%', '2,47', '0,47', '2,94', 'b= 7,0%', '6,61', '0,46', '7,07', 'gesantbetrag', '9,08', '0,93', '10,01', 'ise-signatur:', 'qbi7km577nj7u5jxfp7v5zb8783nreshi', 'px5pnix8xrnk9cbbryh9xh4b0gd7sho0', 'f0rc8y4i671mq0y4xmtk7zctydotqqrkc', 'vzyzj2iehyujzpeejmqxgfsij6ysl', 'tse-signaturzähler', '4652546', 'tse-transaktion:', '2262908', '2025-03-04t15:54:32.00', 'tse-start:', '2025-03-04t15:54:55.000', 'seriennnummer kasse: rewe:d8:5e:d3:48:3f:ae:00', 'tse-stop:', '04.03.2025', '15:54', 'bon-nr. : 7366', 'markt:0006', 'kasse:', 'bed. 432105', 'keine rabatte oder punkte auf mit *', 'gekennzeichnete produkte.', 'noch kein rewe bonus-kunde?', 'jetz in der rewe app anmelden', 'und bonus-guthaben sammeln!', 'rewe markt gmbh', 'sie haben fragen?', 'antworten gibt es unter www. rewe. de', 'barcode bitte am ausgang scannen', '0051741100057'], ['rewe', '****', 'severinstrasse 93-95', '****', '****', '50678 köln', '****', '****', '0221-9320092', '****', 'uid nr. : de812706034', 'eur', 'blutorangensaft', '2,59 a', 'pfand 0,25 euro', '0.25 a *', 'naturjoghurt 3,5', '0,99 b', 'tiramisu', '1,69 b', 'pringles hot', '1,69 b', 'alpen-milchcreme', '1.11 b', 'cola vanilla pet', '1,69 a', 'pfand 0,15 eur', '0,15 a *', 'summe', 'eur', '10,16', 'geg. mastercard', 'eur', '10,16', '* * kundenbeleg', '**', 'datum:', '17.02.2025', 'uhrzeit:', '23:10:12 uhr', 'beleg-nr.', '0536', 'trace-nr.', '303784', 'bezahlung', 'contactless', 'debit mastercard', 'nr.', '###########', '5748 0002', 'vu-nr.', '4556783885', 'terminal-id', '56039996', 'pos-info', '00 075 00', 'as-zeit 17.02.', '23:10 uhr', 'as-proc-code = 0007500', 'capt.-ref. 0000', 'approved', 'betrag eur', '10,16', 'zahlung erfolgt', 'steuer %', 'netto', 'steuer', 'brutto', 'a= 19,0%', '3,93', '0,75', '4,68', 'b= 7,0%', '5,12', '0,36', '5,48', 'gesamtbetrag', '9,05', '1,11', '10,16', 'tse-signatur:', 'q7dk6hxue/b2geg9rit2ivdgwebkrwneb', '1oir85uc2yeqxbi5f9xjuygmue3zmk9qp', '1mhjjwyxk6he7qhixy47akqucbt4xwgj3', 'l4hn1g0yd250nguqj4h+chmeykybr', 'tse-signaturzähler: 4611014', 'tse-transaktion: 2242779', 'tse-start: 2025-02-17t23:09:56.000', 'tse-stop: 2025-02-17t23:10:36.000', 'seriennnummer kasse: reve:d8:5e:d3:48:3f:26:00', '17.02.2025', '23:10', 'bon-nr. 4349', 'markt:0006 kasse:4 bed. 432104', 'keine rabatte oder punkte auf mit *', 'gekennzeichnete produkte.', 'noch kein rewe bonus-kunde?', 'jetzt in der rewe app anmelden', 'und bonus-guthaben sammeln!', 'rewe markt gmbh', 'sie haben fragen?', 'antworten gibt es unter www.rewe.de'], ['rewe', '****', 'severinstrasse 93-95', '****', '****', '50678 köln', '****', '****', '0221-9320092', '****', 'uid nr.: de812706034', 'eur', 'pastrami', '2,79 b', 'haehnchenbrustfi', '1,99 b', 'mascarpone', '4,44 b', 'buttertoast', '0,99 b', 'summe', 'eur', '10,21', 'geg. mastercard', 'eur', '10,21', '** kundenbeleg', '**', 'datum:', '22.02.2025', 'uhrzeit:', '07:15:23 uhr', 'beleg-nr.', '8327', 'trace-nr.', '238786', 'bezahlung', 'contactless', 'debit mastercard', 'nr.', '#5748 0002', 'vu-nr.', '4556783885', 'terminal - id', '56039999', 'pos-info', '00 075 00', 'as-zeit 22.02.', '07:15 uhr', 'as-proc-code = 00 075 00', 'capt.-ref. = 0000', 'approved', 'betrag eur', '10,21', 'zahlung erfolgt', 'steuer %', 'netto', 'steuer', 'brutto', 'b= 7,0%', '9,54', '0,67', '10,21', 'gesamtbetrag', '9.54', '0,67', '10,21', 'tse-signatur:', 'abto/scyqxeq/ojfarqyp08msj3zjvfl0', 'j8whwn7c0qmu/bkfln/ex9nwafvdegnh8', 'gp6phidkbaiogsyfrinea16ec9wxtvcuw', 'zbwfrgvplorto1lgv19ehx86ykjxn', 'tse-signaturzähler: 2669084', 'tse-transaktion: 1271401', 'tse-start: 2025-02-22t07:15:28.000', 'tse-stop: 2025-02-22t07:15:55.000', 'seriennnummer kasse: rewe:d8:5e:d3:48:3f:e9:00', '22.02. 2025', '07:15', 'bon-nr. : 8645', 'markt : 0006', 'kasse:6 bed. 432106', 'noch kein rewe bonus-kunde?', 'jetzt in der rewe app anmelden', 'und bonus-guthaben sammeln!', 'rewe markt gmbh', 'sie haben fragen?', 'antworten gibt es unter www.rewe. de'], ['rewe', '****', 'severinstrasse 93-95', '****', '****', '50678 köln', '****', '****', '0221-9320092', '****', 'uid nr. : de812706034', 'veg. hackbaellch', 'eur', 'bumi mango', '2,99 b', '1,29 b', 'pfand 0,25 euro', '0,25 b *', 'bumi anan-kok', '1,29 b', 'pfand 0,25 euro', '0,25 b *', 'tiramisu', '1,69 b', 'summe', 'eur', '7,76', 'geg. mastercard', 'eur', '7,76', '*', 'kundenbeleg', '*', 'datum:', '01.03.2025', 'uhrzeit:', '18:51:25 uhr', 'beleg-nr.', '6695', 'trace-nr.', '219016', 'bezahlung', 'contactless', 'debit mastercard', 'nr.', '5748 0002', 'vu-nr.', '4556783885', 'terminal-id', '56039997', 'pos-info', '00 075 00', 'as-zeit 01.03.', '18:51 uhr', 'as-proc-code = 00 075 00', 'capt.-ref. = 0000', 'approved', 'betrag eur', '7,76', 'zahlung erfolgt', 'steuer %', 'netto', 'steuer', 'brutto', 'b= 7,0%', '7,25', '0,51', '7,76', 'gesamtbetrag', '7,25', '0,51', '7,76', 'tse-signatur:', 'y3vd59zrm3cotzdkslmutk3djnitf7skx', 'gavmvajbelkij2da83o9tja9rnucju9gr', 'gtpur3ymzu/spz81unub+fwt0s1d3u05k', 'swrukgjeku63fy29cilq0bve4tktp', 'tse-signaturzähler:', '4648172', 'tse-transaktion:', '2260845', 'tse-start:', '2025-03-01t18:49:50.000', 'tse-stop: 2025-03-01t18:50:23.000', 'seriennnummer kasse: rewe:d8:5e:d3:48:3f:ae:00', '01.03.2025', '18:50', 'bon-nr. : 7182', 'markt : 0006', 'kasse:5 bed. 432105', 'keine rabatte oder punkte auf mit *', 'gekennzeichnete produkte.', 'noch kein rewe bonus-kunde?', 'jetzt in der rewe app anmelden', 'und bonus-guthaben sammeln!', 'rewe markt gmbh'], ['rewe', '****', 'severinstrasse 93-95', '****', '****', '50678 köln', '****', '****', '0221-9320092', '****', 'uid nr. : de812706034', 'eur', 'ziegenkaese schb', '2,99 b', 'bonbel scheiben', '3,49 b', 'gt buttertoast', '1,29 b', 'weidemilch 3,5%', '2,50 b', '2 stk x 1,25', 'bumi erdbeere', '1,79 b', 'tiramisu', '1,69 b', 'doritos nacho ch', '1,99 b', 'marshmallows', '1,79 b', 'summe', 'eur', '17,53', 'geg. mastercard', 'eur', '17,53', '**', 'kundenbeleg', '* *', 'datum:', '27.02.2025', 'uhrzeit:', '23:19:05 uhr', 'beleg-nr.', '6185', 'trace-nr.', '306809', 'bezahlung', 'contactless', 'debit mastercard', 'nr.', '5748 0002', 'vu-nr.', '4556783885', 'terminal-id', '56039995', 'pos-info', '00 075 00', 'as-zeit 27.02.', '23:19 uhr', 'as-proc-code = 00 075 00', 'capt.-ref. = 0000', 'approved', 'betrag eur', '17,53', 'zahlung erfolgt', 'steuer %', 'netto', 'steuer', 'brutto', 'b= 7,0%', '16,38', '1,15', '17,53', 'gesamtbetrag', '16,38', '1,15', '17,53', 'tse-signatur:', 'd+a+xg9jkmiedyjwflqucjcp0isqmjcn0', '0zsu0etaiezaiz8wqkb7vjzyakzd0xjdp', 'd4u9dv3hretad74ycvjydrhzpg008acy5', 'i0wc8rjfwakgnarde9bn4uzstsecq', 'tse-signaturzähler:', '2694055', 'tse-transaktion:', '1283646', 'tse-start: 2025-02-27t23:18:2', 'tse-stop:', '2025-02-27t23:19:13.000', 'seriennnummer kasse: rewe:d8:5e:d3:48:3f:f2:00', '27.02.2025', '23:19', 'bon-nr. : 2778', 'markt : 0006', 'kasse:3 bed. : 432103', 'noch kein rewe bonus-kunde?', 'jetzt in der rewe app anmelden', 'und bonus-guthaben sammeln!'], ['rewe', '*** benderstraße 70 ***', '*** 40625 düsseldorf-gerresheim ***', '*** tel. 0211-9293831 ***', 'uid nr. : de812706034', 'eur', 'weizenvollk. sand', '1.49 b', 'yakult original', '3,49 a', 'bio dinkeldrink', '0,99 a', 'tomatensauce', '1,59 b', 'weisse schokola.', '0,66 b', 'milka schoko&lu', '0,66 b', 'zitrone pet', '1,39 a', 'pfand 0,25 euro', '0,25 a *', 'summe', 'eur', '10,52', 'geg. mastercard', 'eur', '10,52', '* *', 'kundenbeleg', '**', 'datum:', '03. 08.2023', 'uhrzeit:', '19:57:49 uhr', 'beleg-nr.', '4471', 'trace-nr.', '485094', 'bezahlung', 'kontaktlos', 'debit mastercard', 'nr.', '############5748 0002', 'vu-nr.', '4556783398', 'terminal-id', '56002259', 'pos-info', '00 073 00', 'as-zeit 03.08.', '19:57 uhr', 'as-proc-code = 00 075 00', 'capt.-ref = 0000', 'approved', 'betrag eur', '10,52', 'zahlung erfolgt', 'steuer %', 'netto', 'steuer', 'brutto', 'a= 19,0%', '5,14', '0,98', '6,12', 'b= 7,0%', '4,11', '0.29', '4,40', 'gesamtbetrag', '9,25', '1,27', '10,52', 'tse-signatur:', 'whlstxjjq0ocjgqdc54ytd8phwyk', 'tse-signaturzähler:', '608297', 'tse-transaktion', '285175', 'tse-start:', '2023-08-03t19:57:39.000', 'tse-stop:', '2023-08-03t19:58:02.000', 'seriennnummer kasse: rewe:00:01:2e:5f:a6:a2:00', '03. 08. 2023', '19:57', 'bon-nr. : 4563', 'markt:0105', 'kasse: bed. : 313131', 'noch keine payback karte?', 'für diesen einkauf hättest du', '5 punkte erhalten!', 'gleich in der rewe app oder auf', 'www. rewe.de/payback anmold-', 'ge', 'hufmon kmi. f61j - 68 mmm gm6'], ['rewe', 'benderstraße 70 ***', '*** 40625 düsseldorf-gerresheim ***', '*** tel. 0211-9293831 ***', 'uid nr.: : de812706034', 'eur', 'drink apple-cinn', '3,99 b', 'banana trinkm.', '3,99 b', 'lac nj. .3,8% gvo', '0.79 b', 'cashew', '1,69 b', 'black label', '25,99 a', 'ncc alu espresso', '3,69 b', 'summe', 'eur', '40,14', 'geg. mastercard', 'eur', '40,14', '**', 'kundenbeleg', '**', 'datum:', '13.11.2023', 'uhrzeit:', '19:21:11 uhr', 'beleg-nr.', '1361', 'trace-nr.', '512885', 'bezahlung', 'contactless', 'debit mastercard', 'nr.', '######### 5748 0002', 'vu-nr.', '4556783398', 'terminal-id', '56002259', 'pos-info', '00 075 00', 'as-zeit 13.11.', '19:21 uhr', 'as-proc-code = 00 075 00', 'capt.-ref. = 0000', 'approved', 'betrag eur', '40,14', 'zahlung erfolgt', 'steuer %', 'netto', 'steuer', 'brutto', 'a= 19,0%', '21,84', '4,15', '25,99', 'b= 7,0%', '13,22', '0,93', '14,15', 'gesamtbetrag', '35,06', '5,08', '40,14', 'tse-signatur:', 'kopnh8oapmjus5medr6+cgupsgoxse000', 'gi1vfwf4bf1lfiybn6uvpuckvhemf3na6', 'onbagk1kfgmvarqccgzvyvnvazwar7o/h', 'pcw1vxitb4rfzu8plhhbbf/rgtnbz', 'tse-signaturzähler:', '754658', 'tse-transaktion:', '354279', 'tse-start: 2023-11-13t19:21:21.000', 'tse-stop: 2023-11-13t19:21:47.000', 'seriennnummer kasse: rewe:00:01:2e:5f:a6:a2:00', '13.11. 2023', '19:21', 'bon-nr. : 6465', 'markt : 0105 kasse: 1 bed. 292929', 'noch keine payback karte?', 'für diesen einkauf hättest du', '20 punkte erhalten!', 'gleich in der rewe app oder auf', 'www. rewe. de/payback anmelden.', 'rewe markt gmbh', 'sie haben fragen?', 'antworten gibt es unter www.rewe. de'], ['rewe', '*** benderstraße 70 ***', '*** 40625 düsseldorf-gerresheim ***', '*** tel. 0211-9293831 ***', 'uid nr. : de812706034', 'eur', 'xxl hamburger', '1,19 b', 'laugen brioc. bun', '1.69 b', 'milch nocciola', '0,79 b', 'joghurtdrink erd', '0,89 b', 'cini minis churr', '2,49 b', 'pesto verde', '1,29 b', 'pettis kaffee sa', '1,99 b', 'pfirsich pet', '1,49 a', 'pfand 0,25 euro', '0,25 a *', 'summe', 'eur', '12,07', 'geg. mastercard', 'eur', '12,07', '*', '*', 'kundenbeleg', '*', '*', 'datum:', '28.10.2023', 'uhrzeit:', '19:11:01 uhr', 'beleg-nr.', '6427', 'trace-nr.', '599844', 'bezahlung', 'contactless', 'debit mastercard', 'nr.', '5748 0002', 'vu-nr.', '4556783398', 'terminal-id', '56002260', 'pos-info', '00 075 00', 'as-zeit 28.10.', '19:11 uhr', 'as-proc-code = 00 075 00', 'capt.-ref. = 0000', 'approved', 'betrag eur', '12,07', 'zahlung erfolgt', 'steuer %', 'netto', 'steuer', 'brutto', 'all 19,0%', '1,46', '0,28', '1,74', '7,0%', '9.65', '0,68', '10,33', 'gesamtbetrag', '11,11', '0,96', '12,07', 'tse-signatur:', '4rjte5sjycokb+fmzhequutx5rrc/wm3', 'zbyjurlnghaen1cy30gkbssz0uy2ree1', 'b7un0mmrwdrnwhrysuq8v2rsugqrdj1jn', '+ddxr5g311t7kiqsolzwmojyetjew', 'tse-signaturzähler: 483498', 'tse-transaktion:', '228877', 'tse-start: 2023-10-28t19:10:32.000', 'tse-stop:', '2023-10-28t19:11:03.000', 'seriennnummer kasse: rewe:00:01:2e:5f:ae:96:00', '28. 10. 2023', '19:11', 'bon-nr. : 4366', 'markt : 0105 kasse:2 bed. : 242424', 'noch keine payback karte?', 'für diesen einkauf hättest du', '5 punkte erhalten!', 'gleich in der rewe app oder auf', 'www.rewe.de/payback anmelden.', 'keine rabatte oder punkte auf mit *', 'gekennzeichnete produkte.', 'rewe markt gmbh', 'sie haben fragen?', 'antworten gibt es unter www. rewe. de'], ['rewe', '****', 'severinstrasse 93-95', '****', '****', '50678 köln', '****', '****', '0221-9320092', '****', 'uid nr.: de812706034', 'eur', 'veg. hackbaellch', '2,99 b', 'mango bio', '1,39 b', 'bumi anan-kok', '1,29 b', 'pfand 0,25 euro', '0.25 b *', 'hp mousse pist', '1,99 b', 'pizza cl. .. tex-mex', '2,19 b', 'pesto genovese', '1.99 b', 'heringsfilets', '1,99 b', 'ncc alu espresso', '3,79 b', 'capsa espresso', '3,49 b', 'ws bluetentraum', '1,89 a', 'tempo feucht', '1,79 a', 'kuectueeco 3x160', '2,99 a', 'summe', 'eur', '28,03', 'geg. mastercard', 'eur', '28,03', '*', '*', 'kundenbeleg', '**', 'datum:', '02.01.2025', 'uhrzeit:', '12:33:34 uhr', 'beleg-nr.', '7391', 'trace-nr.', '208995', 'bezahlung', 'contactless', 'debit mastercard', 'nr.', '5748 0002', 'vu-nr.', '4556783885', 'terminal-id', '56039997', 'pos-info', '00 075 00', 'as-zeit 02.01.', '12:33 uhr', 'as-proc-code = 00 075 00', 'capt. -ref. = 0000', 'approved', 'betrag eur', '28,03', 'zahlung erfolgt', 'steuer %', 'netto', 'steuer', 'brutto', 'a= 19,0%', '5,61', '1,06', '6,67', 'b= 7,0%', '19,96', '1,40', '21,36', 'gesamtbetrag', '25,57', '2,46', '28,03', 'tse-signatur:', 'du81xttphd/5gio7uznrb100cn1z9vbip', 'vae75rcmnrhopyxayn/t4gwtsyf5mc5lh', 'ebmcmizjzt1lptfepc4zvljogruolzg0e', 'u1rtkoqkwnaowbd0e6bqnovtxa/yn', 'tse-signaturzähler:', '4488828', 'tse-transaktion:', '2183695', 'tse-start:', '2025-01-02t12:30:27.000', 'tse-stop:', '2025-01-02t12:33:45.000', 'seriennnummer kasse:', 'rewe:d8:5e:d3:48:3f:ae:00', '02.01.2025', '12:33', 'bon-nr. : 7645', 'markt:0006', 'kasse:5', 'bed. 432105', 'keine rabatte oder punkte auf mit *', 'gekennzeichnete produkte.', 'noch kein rewe bonus-kunde?', 'jetzt und keine vorteile verpassen!', 'in der rewe app anmelden', 'mit diesem einkauf hättest du', '0,30 bonus-guthaben durch und', 'eur', 'bonus-aktionen gesammelt - mit', 'coupons holst du noch mehr raus!'], ['rewe', '*** benderstraße 70 ***', '*** 40625 düsseldorf-gerreshein ***', '*** tel. 0211-9293831 ***', 'uid nr. : de812706034', 'eur', 'brot-bedienung', '1,58 b', '2 stk x 0,79', 'yakult original', '3,49 a', 'berry- trinkmahl', '2,99 a', 'pfand 0,25 euro', '0,25 a *', 'vanille- trinkma', '3,79 a', 'pfand 0,25 euro', '0,25 a *', 'pizza cl. tex-mex', '4,38 b', '2 stk x', '2,19', 'pesto verde', '1,29 b', 'studentenfutter', '3,29 b', 'ncc alu espresso', '3,69 b', 'summe', 'eur', '25,00', 'geg. mastercard', 'eur', '25,00', '* *', 'kundenbeleg * *', 'datum:', '14.10.2023', 'uhrzeit:', '19:41:00 uhr', 'beleg-nr.', '3766', 'trace-nr.', '596967', 'bezahlung', 'contactless', 'debit mastercard', 'nr.', '5748 0002', 'vu-nr.', '4556783398', 'terminal-id', '56002260', 'pos-info', '00 075 00', 'as-zeit 14.10.', '19:41 uhr', 'as-proc-code = 00 075 00', 'capt.-ref. = 0000', 'approved', 'betrag eur', '25,00', 'zahlung erfolgt', 'steuer %', 'netto', 'steuer', 'brutto', 'a= 19,0%', '9,05', '1,72', '10,77', 'b= 7,0%', '13,30', '0,93', '14,23', 'gesamtbetrag', '22,35', '2,65', '25,00', 'tse-signatur:', 'xx589vgrc0glqgndffjhl5j/pwk0bdhpf', 'g2ow+qsdrd4hmzxwn6lgjlw70eja/', 'tse-signaturzähler 464812', 'tse-transaktion', '220097', 'tse-start:', '2823-18-14718249:95:88', 'tse-stop:', 'seriennnummer kasse: rewe:00:01:2e:5f:ae:96:00', '14.10.2023', '19:41', 'bon-nr. : 7936', 'markt : 0105 kasse:2 bed. : 303030', 'noch keine payback karte?', 'für diesen einkauf hättest du', '12 punkte erhalten!', 'gleich in der rewe app oder auf', 'www.rewe.de/payback anmelden.', 'keine rabatte oder punkte auf mit *', 'gekennzeichnete produkte.']]\n"
     ]
    }
   ],
   "source": [
    "# Extract text from the Textract response\n",
    "bon_engine.o_extract_text_from_response()\n",
    "\n",
    "# # Print the extracted text to verify\n",
    "# print(\"Extracted Text:\", bon_engine.receipt_texts)"
   ]
  },
  {
   "cell_type": "code",
   "execution_count": 9,
   "execution_state": "idle",
   "id": "0e6a281b-2ccc-4bb5-8dcf-d1cef2d6e978",
   "metadata": {},
   "outputs": [
    {
     "name": "stdout",
     "output_type": "stream",
     "text": [
      "Store Brands: ['rewe', 'aldi süd', 'aldi süd', 'aldi süd', 'aldi süd', 'aldi süd', 'aldi süd', 'aldi süd', 'aldi süd', 'aldi süd', 'aldi süd', 'lidl', 'lidl', 'lidl', 'lidl', 'rewe', 'rewe', 'rewe', 'rewe', 'rewe', 'rewe', 'rewe', 'rewe', 'rewe', 'rewe', 'rewe', 'rewe', 'rewe', 'rewe', 'rewe', 'rewe', 'rewe', 'rewe']\n"
     ]
    }
   ],
   "source": [
    "# Derive store brands from the receipt text\n",
    "bon_engine.o_get_store_brands()\n",
    "\n",
    "# Print the store brands to verify\n",
    "print(\"Store Brands:\", bon_engine.store_names)"
   ]
  },
  {
   "cell_type": "code",
   "execution_count": 10,
   "execution_state": "idle",
   "id": "533833a2-0d14-41b9-9543-d691103d50cf",
   "metadata": {},
   "outputs": [],
   "source": [
    "# Extract features (items, prices, dates, etc.)\n",
    "bon_engine.o_exctract_features()\n",
    "\n",
    "# # Print the df_dict to verify\n",
    "# print(\"df_dict:\", bon_engine.df_dict)"
   ]
  },
  {
   "cell_type": "code",
   "execution_count": 11,
   "execution_state": "idle",
   "id": "af5a9659-5926-45be-b12d-8e71f0e70140",
   "metadata": {},
   "outputs": [
    {
     "name": "stdout",
     "output_type": "stream",
     "text": [
      "DataFrame:                          receipt_code store_brand purchase_date purchase_hour  \\\n",
      "0              receipts/IMG_6536.JPEG        rewe    2025-03-15      19:45:23   \n",
      "1              receipts/IMG_6536.JPEG        rewe    2025-03-15      19:45:23   \n",
      "2              receipts/IMG_6536.JPEG        rewe    2025-03-15      19:45:23   \n",
      "3              receipts/IMG_6536.JPEG        rewe    2025-03-15      19:45:23   \n",
      "4              receipts/IMG_6536.JPEG        rewe    2025-03-15      19:45:23   \n",
      "..                                ...         ...           ...           ...   \n",
      "243  receipts/uid1234567_rewe018.JPEG        rewe    2023-10-14      19:41:00   \n",
      "244  receipts/uid1234567_rewe018.JPEG        rewe    2023-10-14      19:41:00   \n",
      "245  receipts/uid1234567_rewe018.JPEG        rewe    2023-10-14      19:41:00   \n",
      "246  receipts/uid1234567_rewe018.JPEG        rewe    2023-10-14      19:41:00   \n",
      "248  receipts/uid1234567_rewe018.JPEG        rewe    2023-10-14      19:41:00   \n",
      "\n",
      "        purchased_item item_price purchased_item_explicit  \n",
      "0             pastrami       1.99                    None  \n",
      "1     oliven-tomatenk.       1.29                    None  \n",
      "2      ja! butterkaese       2.99                    None  \n",
      "3      blutorangensaft       2.59                    None  \n",
      "4      pfand 0,25 euro       0.25                    None  \n",
      "..                 ...        ...                     ...  \n",
      "243   vanille- trinkma       3.79                    None  \n",
      "244    pfand 0,25 euro       0.25                    None  \n",
      "245  pizza cl. tex-mex       4.38                    None  \n",
      "246        pesto verde       1.29                    None  \n",
      "248   ncc alu espresso       3.69                    None  \n",
      "\n",
      "[249 rows x 7 columns]\n"
     ]
    }
   ],
   "source": [
    "# Create a DataFrame from the df_dict\n",
    "bon_engine.o_create_df()\n",
    "\n",
    "# Print the DataFrame to verify\n",
    "print(\"DataFrame:\", bon_engine.df)"
   ]
  },
  {
   "cell_type": "code",
   "execution_count": 15,
   "execution_state": "idle",
   "id": "1c29e091-d3ac-4770-95d8-44ad7431f7f1",
   "metadata": {},
   "outputs": [
    {
     "name": "stdout",
     "output_type": "stream",
     "text": [
      "Row Ranges: [('receipts/IMG_6536.JPEG', [0, 14]), ('receipts/IMG_6536.JPEG', [0, 14])]\n"
     ]
    }
   ],
   "source": [
    "# Prepare for GenAI processing\n",
    "bon_engine.o_pre_genai_prep()\n",
    "\n",
    "# Print the row ranges to verify\n",
    "print(\"Row Ranges:\", bon_engine.row_ranges)"
   ]
  },
  {
   "cell_type": "code",
   "execution_count": 18,
   "execution_state": "idle",
   "id": "8dd417e3-2a57-4321-9622-57d44a7011b3",
   "metadata": {},
   "outputs": [
    {
     "name": "stdout",
     "output_type": "stream",
     "text": [
      "('receipts/IMG_6536.JPEG', [0, 14])\n",
      "('receipts/IMG_6536.JPEG', [0, 14])\n",
      "('receipts/IMG_6536.JPEG', [0, 14])\n",
      "('receipts/uid1234567_aldi002.JPEG', [14, 17])\n",
      "('receipts/uid1234567_aldi003.JPEG', [17, 26])\n",
      "('receipts/uid1234567_aldi004.JPEG', [26, 34])\n",
      "('receipts/uid1234567_aldi005.JPEG', [34, 38])\n",
      "('receipts/uid1234567_aldi006.JPEG', [38, 52])\n",
      "('receipts/uid1234567_aldi007.JPEG', [52, 61])\n",
      "('receipts/uid1234567_aldi008.JPEG', [61, 65])\n",
      "('receipts/uid1234567_aldi009.JPEG', [65, 77])\n",
      "('receipts/uid1234567_aldi010.JPEG', [77, 89])\n",
      "('receipts/uid1234567_aldi011.JPEG', [89, 96])\n",
      "('receipts/uid1234567_lidl001.JPEG', [96, 103])\n",
      "('receipts/uid1234567_lidl002.JPEG', [103, 113])\n",
      "('receipts/uid1234567_lidl003.JPEG', [113, 132])\n",
      "('receipts/uid1234567_lidl004.JPEG', [132, 154])\n",
      "('receipts/uid1234567_rewe001.JPEG', [154, 155])\n",
      "('receipts/uid1234567_rewe002.JPEG', [155, 159])\n",
      "('receipts/uid1234567_rewe003.JPEG', [159, 163])\n",
      "('receipts/uid1234567_rewe004.JPEG', [163, 167])\n",
      "('receipts/uid1234567_rewe005.JPEG', [167, 168])\n",
      "('receipts/uid1234567_rewe006.JPEG', [168, 170])\n",
      "('receipts/uid1234567_rewe007.JPEG', [170, 177])\n",
      "('receipts/uid1234567_rewe008.JPEG', [177, 180])\n",
      "('receipts/uid1234567_rewe009.JPEG', [180, 184])\n",
      "('receipts/uid1234567_rewe010.JPEG', [184, 190])\n",
      "('receipts/uid1234567_rewe011.JPEG', [190, 194])\n",
      "('receipts/uid1234567_rewe012.JPEG', [194, 200])\n",
      "('receipts/uid1234567_rewe013.JPEG', [200, 208])\n",
      "('receipts/uid1234567_rewe014.JPEG', [208, 215])\n",
      "('receipts/uid1234567_rewe015.JPEG', [215, 220])\n",
      "('receipts/uid1234567_rewe016.JPEG', [220, 228])\n",
      "('receipts/uid1234567_rewe017.JPEG', [228, 239])\n",
      "('receipts/uid1234567_rewe018.JPEG', [239, 249])\n",
      "DataFrame with Explicit Items:                          receipt_code store_brand purchase_date purchase_hour  \\\n",
      "0              receipts/IMG_6536.JPEG        rewe    2025-03-15      19:45:23   \n",
      "1              receipts/IMG_6536.JPEG        rewe    2025-03-15      19:45:23   \n",
      "2              receipts/IMG_6536.JPEG        rewe    2025-03-15      19:45:23   \n",
      "3              receipts/IMG_6536.JPEG        rewe    2025-03-15      19:45:23   \n",
      "4              receipts/IMG_6536.JPEG        rewe    2025-03-15      19:45:23   \n",
      "..                                ...         ...           ...           ...   \n",
      "244  receipts/uid1234567_rewe018.JPEG        rewe    2023-10-14      19:41:00   \n",
      "245  receipts/uid1234567_rewe018.JPEG        rewe    2023-10-14      19:41:00   \n",
      "246  receipts/uid1234567_rewe018.JPEG        rewe    2023-10-14      19:41:00   \n",
      "247  receipts/uid1234567_rewe018.JPEG        rewe    2023-10-14      19:41:00   \n",
      "248  receipts/uid1234567_rewe018.JPEG        rewe    2023-10-14      19:41:00   \n",
      "\n",
      "       purchased_item item_price purchased_item_explicit  \n",
      "0            pastrami       1.99                pastrami  \n",
      "1    oliven-tomatenk.       1.29      oliven-tomatenkäse  \n",
      "2     ja! butterkaese       2.99          ja! butterkäse  \n",
      "3     blutorangensaft       2.59         blutorangensaft  \n",
      "4     pfand 0,25 euro       0.25         pfand 0,25 euro  \n",
      "..                ...        ...                     ...  \n",
      "244   yakult original       3.49         yakult original  \n",
      "245  berry- trinkmahl       2.99     berry-trinkmahlzeit  \n",
      "246   pfand 0,25 euro       0.25         pfand 0,25 euro  \n",
      "247  vanille- trinkma       3.79   vanille-trinkmahlzeit  \n",
      "248  ncc alu espresso       3.69  ncc aluminium espresso  \n",
      "\n",
      "[249 rows x 7 columns]\n"
     ]
    }
   ],
   "source": [
    "# Get explicit item names from the AI\n",
    "bon_engine.o_get_explicit_items()\n",
    "\n",
    "# Print the DataFrame with explicit item names to verify\n",
    "print(\"DataFrame with Explicit Items:\", bon_engine.df)"
   ]
  },
  {
   "cell_type": "code",
   "execution_count": 19,
   "execution_state": "idle",
   "id": "afc6c655-96ac-4c0a-abbb-7f4eedb79bcb",
   "metadata": {},
   "outputs": [],
   "source": [
    "if bon_engine.existing_df is not None:\n",
    "    bon_engine.o_stack_dfs()"
   ]
  },
  {
   "cell_type": "code",
   "execution_count": 20,
   "execution_state": "idle",
   "id": "9fb98164-57cf-4bed-aa28-1145ad8a6ad1",
   "metadata": {},
   "outputs": [
    {
     "name": "stdout",
     "output_type": "stream",
     "text": [
      "Item Categories: ['Dairy Products', 'Meat and Poultry', 'Pasta and Grains', 'Beverages', 'Snacks and Sweets', 'Fruits and Vegetables', 'Baking and Cooking Ingredients', 'Condiments and Sauces', 'Breakfast Items', 'Household Items']\n"
     ]
    }
   ],
   "source": [
    "# Get item categories from the AI\n",
    "bon_engine.o_get_item_categories()\n",
    "\n",
    "# Print the item categories to verify\n",
    "print(\"Item Categories:\", bon_engine.item_categories)"
   ]
  },
  {
   "cell_type": "code",
   "execution_count": 21,
   "execution_state": "idle",
   "id": "fdd74e7a-8be9-4322-9f1e-27e5cecbcaab",
   "metadata": {},
   "outputs": [
    {
     "name": "stdout",
     "output_type": "stream",
     "text": [
      "DataFrame with Item Categories:                          receipt_code store_brand purchase_date purchase_hour  \\\n",
      "0              receipts/IMG_6536.JPEG        rewe    2025-03-15      19:45:23   \n",
      "1              receipts/IMG_6536.JPEG        rewe    2025-03-15      19:45:23   \n",
      "2              receipts/IMG_6536.JPEG        rewe    2025-03-15      19:45:23   \n",
      "3              receipts/IMG_6536.JPEG        rewe    2025-03-15      19:45:23   \n",
      "4              receipts/IMG_6536.JPEG        rewe    2025-03-15      19:45:23   \n",
      "..                                ...         ...           ...           ...   \n",
      "244  receipts/uid1234567_rewe018.JPEG        rewe    2023-10-14      19:41:00   \n",
      "245  receipts/uid1234567_rewe018.JPEG        rewe    2023-10-14      19:41:00   \n",
      "246  receipts/uid1234567_rewe018.JPEG        rewe    2023-10-14      19:41:00   \n",
      "247  receipts/uid1234567_rewe018.JPEG        rewe    2023-10-14      19:41:00   \n",
      "248  receipts/uid1234567_rewe018.JPEG        rewe    2023-10-14      19:41:00   \n",
      "\n",
      "       purchased_item item_price purchased_item_explicit     item_category  \n",
      "0            pastrami       1.99                pastrami  Meat and Poultry  \n",
      "1    oliven-tomatenk.       1.29      oliven-tomatenkäse    Dairy Products  \n",
      "2     ja! butterkaese       2.99          ja! butterkäse    Dairy Products  \n",
      "3     blutorangensaft       2.59         blutorangensaft         Beverages  \n",
      "4     pfand 0,25 euro       0.25         pfand 0,25 euro   Household Items  \n",
      "..                ...        ...                     ...               ...  \n",
      "244   yakult original       3.49         yakult original    Dairy Products  \n",
      "245  berry- trinkmahl       2.99     berry-trinkmahlzeit         Beverages  \n",
      "246   pfand 0,25 euro       0.25         pfand 0,25 euro   Household Items  \n",
      "247  vanille- trinkma       3.79   vanille-trinkmahlzeit         Beverages  \n",
      "248  ncc alu espresso       3.69  ncc aluminium espresso         Beverages  \n",
      "\n",
      "[249 rows x 8 columns]\n"
     ]
    }
   ],
   "source": [
    "# Match items to their categories\n",
    "bon_engine.o_match_items_to_categories()\n",
    "\n",
    "# Print the DataFrame with item categories to verify\n",
    "print(\"DataFrame with Item Categories:\", bon_engine.df)"
   ]
  },
  {
   "cell_type": "code",
   "execution_count": 22,
   "execution_state": "idle",
   "id": "641aebc0-ee3e-4c45-9f60-62a97282906c",
   "metadata": {},
   "outputs": [
    {
     "name": "stdout",
     "output_type": "stream",
     "text": [
      "DataFrame uploaded to S3 as receipts_decoded/shopping_history.csv in bucket bon-yy.\n",
      "Results saved to S3.\n"
     ]
    }
   ],
   "source": [
    "# Save the results to S3\n",
    "bon_engine.o_save_results()\n",
    "\n",
    "# Print confirmation\n",
    "print(\"Results saved to S3.\")"
   ]
  },
  {
   "cell_type": "code",
   "execution_count": null,
   "id": "1f0119d8-93f2-4731-9058-bfaefbc3660b",
   "metadata": {},
   "outputs": [],
   "source": []
  }
 ],
 "metadata": {
  "kernelspec": {
   "display_name": "Python 3 (ipykernel)",
   "language": "python",
   "name": "python3"
  },
  "language_info": {
   "codemirror_mode": {
    "name": "ipython",
    "version": 3
   },
   "file_extension": ".py",
   "mimetype": "text/x-python",
   "name": "python",
   "nbconvert_exporter": "python",
   "pygments_lexer": "ipython3",
   "version": "3.11.11"
  }
 },
 "nbformat": 4,
 "nbformat_minor": 5
}
